{
  "nbformat": 4,
  "nbformat_minor": 0,
  "metadata": {
    "colab": {
      "provenance": []
    },
    "kernelspec": {
      "name": "python3",
      "display_name": "Python 3"
    },
    "language_info": {
      "name": "python"
    }
  },
  "cells": [
    {
      "cell_type": "markdown",
      "source": [
        "# **Setting Up**"
      ],
      "metadata": {
        "id": "DC5JsJ_s1d8C"
      }
    },
    {
      "cell_type": "code",
      "execution_count": null,
      "metadata": {
        "id": "F_vUjPzC0tpd"
      },
      "outputs": [],
      "source": [
        "!pip install langchain\n",
        "!pip install openai\n",
        "!pip install PyPDF2\n",
        "!pip install faiss-cpu\n",
        "!pip install tiktoken\n",
        "!pip install gradio"
      ]
    },
    {
      "cell_type": "code",
      "source": [
        "# Connect to Google Drive for files\n",
        "from google.colab import drive\n",
        "drive.mount('/content/gdrive')"
      ],
      "metadata": {
        "colab": {
          "base_uri": "https://localhost:8080/"
        },
        "id": "RkPCDqc62-c7",
        "outputId": "084e9be5-a828-46c3-ddcd-67aec41210e7"
      },
      "execution_count": null,
      "outputs": [
        {
          "output_type": "stream",
          "name": "stdout",
          "text": [
            "Mounted at /content/gdrive\n"
          ]
        }
      ]
    },
    {
      "cell_type": "code",
      "source": [
        "%cd \"/content/gdrive/MyDrive\""
      ],
      "metadata": {
        "id": "878Kfur1wmwN"
      },
      "execution_count": null,
      "outputs": []
    },
    {
      "cell_type": "code",
      "source": [
        "# Important Stuff\n",
        "from PyPDF2 import PdfReader\n",
        "from langchain.embeddings.openai import OpenAIEmbeddings\n",
        "from langchain.text_splitter import CharacterTextSplitter\n",
        "from langchain.vectorstores import FAISS\n",
        "from langchain.chains.question_answering import load_qa_chain\n",
        "from langchain.chat_models import ChatOpenAI\n",
        "import os\n",
        "import gradio as gr\n",
        "os.environ[\"OPENAI_API_KEY\"] = \"\""
      ],
      "metadata": {
        "id": "MEuQZI3e3aYs"
      },
      "execution_count": null,
      "outputs": []
    },
    {
      "cell_type": "markdown",
      "source": [
        "# **Reading the PDF**"
      ],
      "metadata": {
        "id": "foG6IGi2QeQd"
      }
    },
    {
      "cell_type": "code",
      "source": [
        "reader = PdfReader(\"/test/AS.pdf\")"
      ],
      "metadata": {
        "id": "1Puiy-BaNYjt"
      },
      "execution_count": null,
      "outputs": []
    },
    {
      "cell_type": "code",
      "source": [
        "# Read Data from Text:\n",
        "raw_text = ''"
      ],
      "metadata": {
        "id": "1hCx29EwPSFw"
      },
      "execution_count": null,
      "outputs": []
    },
    {
      "cell_type": "markdown",
      "source": [
        "# **CharacterTextSplitter**"
      ],
      "metadata": {
        "id": "oC3Z4o6pRvcH"
      }
    },
    {
      "cell_type": "code",
      "source": [
        "for i, page in enumerate(reader.pages):\n",
        "    text = page.extract_text()\n",
        "    if text:\n",
        "        raw_text += text\n",
        "# Split Text Data:\n",
        "text_splitter = CharacterTextSplitter(\n",
        "    separator= \"\\n\",\n",
        "    chunk_size = 1000,\n",
        "    chunk_overlap = 200,\n",
        "    length_function = len\n",
        ")"
      ],
      "metadata": {
        "id": "3spopG0vPUbi"
      },
      "execution_count": null,
      "outputs": []
    },
    {
      "cell_type": "code",
      "source": [
        "texts = text_splitter.split_text(raw_text)"
      ],
      "metadata": {
        "id": "CcCdGcusPX4J"
      },
      "execution_count": null,
      "outputs": []
    },
    {
      "cell_type": "markdown",
      "source": [
        "# **Embeddings**"
      ],
      "metadata": {
        "id": "285bCn7FQoed"
      }
    },
    {
      "cell_type": "code",
      "source": [
        "embeddings = OpenAIEmbeddings()"
      ],
      "metadata": {
        "id": "JKIUNw2CPc9T"
      },
      "execution_count": null,
      "outputs": []
    },
    {
      "cell_type": "markdown",
      "source": [
        "# **FAISS - Facebook A.I. Similarity Search**"
      ],
      "metadata": {
        "id": "6yavCP3hQUlj"
      }
    },
    {
      "cell_type": "code",
      "source": [
        "docsearch = FAISS.from_texts(texts, embeddings)"
      ],
      "metadata": {
        "id": "eYDpdT4uQtga"
      },
      "execution_count": null,
      "outputs": []
    },
    {
      "cell_type": "markdown",
      "source": [
        "##**LangChain**"
      ],
      "metadata": {
        "id": "AyMwlgizRJso"
      }
    },
    {
      "cell_type": "code",
      "source": [
        "# Using ChatGPT-3.5-turbo for the document answering\n",
        "llm = ChatOpenAI(temperature=0.0)"
      ],
      "metadata": {
        "id": "HykX77WnPe4J"
      },
      "execution_count": null,
      "outputs": []
    },
    {
      "cell_type": "markdown",
      "source": [
        "**Chain**"
      ],
      "metadata": {
        "id": "LisUwDk-RNwJ"
      }
    },
    {
      "cell_type": "code",
      "source": [
        "# Question & Answer Chain\n",
        "chain = load_qa_chain(llm = llm, chain_type=\"stuff\")"
      ],
      "metadata": {
        "id": "Lr4s_cIWRUMU"
      },
      "execution_count": null,
      "outputs": []
    },
    {
      "cell_type": "markdown",
      "source": [
        "# **Creating Function for our Questions**"
      ],
      "metadata": {
        "id": "N1EcHXuYQ0-8"
      }
    },
    {
      "cell_type": "code",
      "source": [
        "def ask_GPT(question):\n",
        "    query = question\n",
        "    docs = docsearch.similarity_search(query)\n",
        "    response = chain.run(input_documents = docs, question=query)\n",
        "    return response"
      ],
      "metadata": {
        "id": "IdfnYGW4PgEg"
      },
      "execution_count": null,
      "outputs": []
    },
    {
      "cell_type": "code",
      "source": [
        "# Ask Question Here!\n",
        "ask_GPT(\"\")"
      ],
      "metadata": {
        "id": "Ki2sXFfMrzmE"
      },
      "execution_count": null,
      "outputs": []
    },
    {
      "cell_type": "markdown",
      "source": [
        "# **Web Interface**"
      ],
      "metadata": {
        "id": "k3sz472bRcDI"
      }
    },
    {
      "cell_type": "code",
      "source": [
        "demo = gr.Interface(\n",
        "    fn = ask_GPT,\n",
        "    inputs = gr.Textbox(lines = 2, placeholder=\"Enter your prompt: \"),\n",
        "    outputs = \"text\"\n",
        ")\n",
        "demo.launch(share = True)"
      ],
      "metadata": {
        "id": "gJEl8CVfRe4g"
      },
      "execution_count": null,
      "outputs": []
    }
  ]
}